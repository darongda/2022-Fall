{
  "nbformat": 4,
  "nbformat_minor": 0,
  "metadata": {
    "colab": {
      "provenance": [],
      "authorship_tag": "ABX9TyPoxDsiIdA5/LSrGhvM/fRl",
      "include_colab_link": true
    },
    "kernelspec": {
      "name": "python3",
      "display_name": "Python 3"
    },
    "language_info": {
      "name": "python"
    }
  },
  "cells": [
    {
      "cell_type": "markdown",
      "metadata": {
        "id": "view-in-github",
        "colab_type": "text"
      },
      "source": [
        "<a href=\"https://colab.research.google.com/github/kimdayoung0211/class2022Fall/blob/main/%EC%98%81%ED%99%94_%EC%9B%8C%EB%93%9C%ED%81%B4%EB%9D%BC%EC%9A%B0%EB%93%9C.ipynb\" target=\"_parent\"><img src=\"https://colab.research.google.com/assets/colab-badge.svg\" alt=\"Open In Colab\"/></a>"
      ]
    },
    {
      "cell_type": "markdown",
      "source": [
        "영화 워드클라우드 패키지 설치"
      ],
      "metadata": {
        "id": "xDE6zifx29JZ"
      }
    },
    {
      "cell_type": "code",
      "execution_count": null,
      "metadata": {
        "colab": {
          "base_uri": "https://localhost:8080/"
        },
        "id": "PlbFGH311mJF",
        "outputId": "7e4a8dc6-6707-4230-d5c2-9cef2c5f075b"
      },
      "outputs": [
        {
          "output_type": "stream",
          "name": "stdout",
          "text": [
            "Looking in indexes: https://pypi.org/simple, https://us-python.pkg.dev/colab-wheels/public/simple/\n",
            "Collecting konlpy\n",
            "  Downloading konlpy-0.6.0-py2.py3-none-any.whl (19.4 MB)\n",
            "\u001b[K     |████████████████████████████████| 19.4 MB 1.2 MB/s \n",
            "\u001b[?25hRequirement already satisfied: numpy>=1.6 in /usr/local/lib/python3.8/dist-packages (from konlpy) (1.21.6)\n",
            "Collecting JPype1>=0.7.0\n",
            "  Downloading JPype1-1.4.1-cp38-cp38-manylinux_2_12_x86_64.manylinux2010_x86_64.whl (465 kB)\n",
            "\u001b[K     |████████████████████████████████| 465 kB 51.0 MB/s \n",
            "\u001b[?25hRequirement already satisfied: lxml>=4.1.0 in /usr/local/lib/python3.8/dist-packages (from konlpy) (4.9.1)\n",
            "Requirement already satisfied: packaging in /usr/local/lib/python3.8/dist-packages (from JPype1>=0.7.0->konlpy) (21.3)\n",
            "Requirement already satisfied: pyparsing!=3.0.5,>=2.0.2 in /usr/local/lib/python3.8/dist-packages (from packaging->JPype1>=0.7.0->konlpy) (3.0.9)\n",
            "Installing collected packages: JPype1, konlpy\n",
            "Successfully installed JPype1-1.4.1 konlpy-0.6.0\n"
          ]
        }
      ],
      "source": [
        "!pip install konlpy"
      ]
    },
    {
      "cell_type": "code",
      "source": [
        "from konlpy.tag import Okt\n",
        "from wordcloud import WordCloud\n",
        "from PIL import Image\n",
        "import numpy as np\n",
        "file = open('naver_moive_Hugh Jackman.txt', 'r', encoding='utf-8')\n",
        "reply_text = file.readlines()\n",
        "file.close()"
      ],
      "metadata": {
        "id": "d2zufZr-2vzy"
      },
      "execution_count": null,
      "outputs": []
    },
    {
      "cell_type": "markdown",
      "source": [
        "명사 말뭉치 생성"
      ],
      "metadata": {
        "id": "ZKq4vFWY3G0A"
      }
    },
    {
      "cell_type": "code",
      "source": [
        "ok_twitter = Okt()\n",
        "text = ''\n",
        "for sentence in reply_text:  # 댓글 한 줄씩 처리\n",
        "    for noun in ok_twitter.nouns(sentence):\n",
        "      if noun in['영화','만','중', '도', '번', '저', '나', '이', '때','정말','역시','그냥','역시','하나','거','임','함','수','하나 하나','그','안','이건','그냥','요','강','내','상미','좀','볼','걸' ]:  # 명사 분리\n",
        "        pass\n",
        "      else:\n",
        "        text += noun + ' '  # 출력할 명사만 뽑아서 저장, 공백으로 분리\n",
        "        #print(text)"
      ],
      "metadata": {
        "id": "cxbMI1TN3Ng7"
      },
      "execution_count": null,
      "outputs": []
    },
    {
      "cell_type": "code",
      "source": [
        "mask_image=np.array(Image.open('hat.jpg'))\n",
        "wc=WordCloud(font_path='/content/SCDream8.otf',\n",
        "             background_color='white',\n",
        "             max_words=90,\n",
        "             max_font_size=80,\n",
        "             min_font_size=7,\n",
        "             mask=mask_image,\n",
        "             colormap='tab20').generate(text)\n",
        "wc.to_file('wc.png')"
      ],
      "metadata": {
        "colab": {
          "base_uri": "https://localhost:8080/"
        },
        "id": "fgB5pu7230Rt",
        "outputId": "57282dc0-9477-4d5a-d37d-128dea982baa"
      },
      "execution_count": null,
      "outputs": [
        {
          "output_type": "execute_result",
          "data": {
            "text/plain": [
              "<wordcloud.wordcloud.WordCloud at 0x7fe5704a5580>"
            ]
          },
          "metadata": {},
          "execution_count": 48
        }
      ]
    }
  ]
}