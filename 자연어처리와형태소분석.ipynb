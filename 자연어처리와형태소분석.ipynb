{
  "nbformat": 4,
  "nbformat_minor": 0,
  "metadata": {
    "colab": {
      "provenance": [],
      "authorship_tag": "ABX9TyNosKnYPUiYYOOkOpL5Zu1+",
      "include_colab_link": true
    },
    "kernelspec": {
      "name": "python3",
      "display_name": "Python 3"
    },
    "language_info": {
      "name": "python"
    }
  },
  "cells": [
    {
      "cell_type": "markdown",
      "metadata": {
        "id": "view-in-github",
        "colab_type": "text"
      },
      "source": [
        "<a href=\"https://colab.research.google.com/github/kimdayoung0211/class2022Fall/blob/main/%EC%9E%90%EC%97%B0%EC%96%B4%EC%B2%98%EB%A6%AC%EC%99%80%ED%98%95%ED%83%9C%EC%86%8C%EB%B6%84%EC%84%9D.ipynb\" target=\"_parent\"><img src=\"https://colab.research.google.com/assets/colab-badge.svg\" alt=\"Open In Colab\"/></a>"
      ]
    },
    {
      "cell_type": "code",
      "source": [
        "!pip install konlpy"
      ],
      "metadata": {
        "colab": {
          "base_uri": "https://localhost:8080/"
        },
        "id": "15bY6vh1oleT",
        "outputId": "6cf4544e-ea76-46ba-b3e3-576c637b54c3"
      },
      "execution_count": null,
      "outputs": [
        {
          "output_type": "stream",
          "name": "stdout",
          "text": [
            "Looking in indexes: https://pypi.org/simple, https://us-python.pkg.dev/colab-wheels/public/simple/\n",
            "Collecting konlpy\n",
            "  Downloading konlpy-0.6.0-py2.py3-none-any.whl (19.4 MB)\n",
            "\u001b[K     |████████████████████████████████| 19.4 MB 1.2 MB/s \n",
            "\u001b[?25hCollecting JPype1>=0.7.0\n",
            "  Downloading JPype1-1.4.1-cp38-cp38-manylinux_2_12_x86_64.manylinux2010_x86_64.whl (465 kB)\n",
            "\u001b[K     |████████████████████████████████| 465 kB 46.3 MB/s \n",
            "\u001b[?25hRequirement already satisfied: numpy>=1.6 in /usr/local/lib/python3.8/dist-packages (from konlpy) (1.21.6)\n",
            "Requirement already satisfied: lxml>=4.1.0 in /usr/local/lib/python3.8/dist-packages (from konlpy) (4.9.1)\n",
            "Requirement already satisfied: packaging in /usr/local/lib/python3.8/dist-packages (from JPype1>=0.7.0->konlpy) (21.3)\n",
            "Requirement already satisfied: pyparsing!=3.0.5,>=2.0.2 in /usr/local/lib/python3.8/dist-packages (from packaging->JPype1>=0.7.0->konlpy) (3.0.9)\n",
            "Installing collected packages: JPype1, konlpy\n",
            "Successfully installed JPype1-1.4.1 konlpy-0.6.0\n"
          ]
        }
      ]
    },
    {
      "cell_type": "code",
      "source": [
        "from konlpy.tag import Kkma\n",
        "t = Okt()\n",
        "my_text = '한국어 분석을 시작합니다 재미있어요~'\n",
        "print(t.nouns(my_text))\n",
        "print(t.morphs(my_text))\n",
        "print(t.pos(my_text))"
      ],
      "metadata": {
        "colab": {
          "base_uri": "https://localhost:8080/"
        },
        "id": "9wqZgD5do28i",
        "outputId": "175488b4-5658-42e5-f3fa-af2665ba85f4"
      },
      "execution_count": null,
      "outputs": [
        {
          "output_type": "stream",
          "name": "stdout",
          "text": [
            "['한국어', '분석', '시작']\n",
            "['한국어', '분석', '을', '시작', '합니다', '재미있어요', '~']\n",
            "[('한국어', 'Noun'), ('분석', 'Noun'), ('을', 'Josa'), ('시작', 'Noun'), ('합니다', 'Verb'), ('재미있어요', 'Adjective'), ('~', 'Punctuation')]\n"
          ]
        }
      ]
    },
    {
      "cell_type": "code",
      "source": [
        "from konlpy.tag import Hannanum\n",
        "t = Okt()\n",
        "my_text = '한국어 분석을 시작합니다 재미있어요~'\n",
        "print(t.nouns(my_text))\n",
        "print(t.morphs(my_text))\n",
        "print(t.pos(my_text))"
      ],
      "metadata": {
        "colab": {
          "base_uri": "https://localhost:8080/"
        },
        "id": "-UK0c3pcpDyJ",
        "outputId": "d290b15d-574d-43af-9419-03711350eff4"
      },
      "execution_count": null,
      "outputs": [
        {
          "output_type": "stream",
          "name": "stdout",
          "text": [
            "['한국어', '분석', '시작']\n",
            "['한국어', '분석', '을', '시작', '합니다', '재미있어요', '~']\n",
            "[('한국어', 'Noun'), ('분석', 'Noun'), ('을', 'Josa'), ('시작', 'Noun'), ('합니다', 'Verb'), ('재미있어요', 'Adjective'), ('~', 'Punctuation')]\n"
          ]
        }
      ]
    },
    {
      "cell_type": "code",
      "source": [
        "from konlpy.tag import Komoran\n",
        "t = Okt()\n",
        "my_text = '한국어 분석을 시작합니다 재미있어요~'\n",
        "print(t.nouns(my_text))\n",
        "print(t.morphs(my_text))\n",
        "print(t.pos(my_text))"
      ],
      "metadata": {
        "colab": {
          "base_uri": "https://localhost:8080/"
        },
        "id": "eNL_WCkTpIZ8",
        "outputId": "ce4eaf7c-5e85-4b8f-a9e2-7f2994a5d9aa"
      },
      "execution_count": null,
      "outputs": [
        {
          "output_type": "stream",
          "name": "stdout",
          "text": [
            "['한국어', '분석', '시작']\n",
            "['한국어', '분석', '을', '시작', '합니다', '재미있어요', '~']\n",
            "[('한국어', 'Noun'), ('분석', 'Noun'), ('을', 'Josa'), ('시작', 'Noun'), ('합니다', 'Verb'), ('재미있어요', 'Adjective'), ('~', 'Punctuation')]\n"
          ]
        }
      ]
    },
    {
      "cell_type": "code",
      "execution_count": null,
      "metadata": {
        "colab": {
          "base_uri": "https://localhost:8080/"
        },
        "id": "RoT6yzaFhTps",
        "outputId": "b4e55a75-4466-44d3-8c50-a2167f4dbbfa"
      },
      "outputs": [
        {
          "output_type": "stream",
          "name": "stdout",
          "text": [
            "['한국어', '분석', '시작']\n",
            "['한국어', '분석', '을', '시작', '합니다', '재미있어요', '~']\n",
            "[('한국어', 'Noun'), ('분석', 'Noun'), ('을', 'Josa'), ('시작', 'Noun'), ('합니다', 'Verb'), ('재미있어요', 'Adjective'), ('~', 'Punctuation')]\n"
          ]
        }
      ],
      "source": [
        "from konlpy.tag import Okt\n",
        "t = Okt()\n",
        "my_text = '한국어 분석을 시작합니다 재미있어요~'\n",
        "print(t.nouns(my_text))\n",
        "print(t.morphs(my_text))\n",
        "print(t.pos(my_text))"
      ]
    },
    {
      "cell_type": "code",
      "source": [
        "file = open('/content/naver_moive_Hugh Jackman.txt','r', encoding='utf-8'). #한글파일 깨지지 않도록 유니코드-8 지정\n",
        "total_lines = file.readlines()\n",
        "file.close()\n",
        "print(total_lines)\n",
        "\n",
        "reply_text=[]\n",
        "for line in total_lines:\n",
        "  reply_text.append(line[:-1])"
      ],
      "metadata": {
        "id": "nekz58GepvtD"
      },
      "execution_count": null,
      "outputs": []
    },
    {
      "cell_type": "code",
      "source": [
        "from konlpy.tag import Okt\n",
        "ok_twitter = Okt()\n",
        "\n",
        "sentences_tag = []\n",
        "for sentence in reply_text:\n",
        "  morph = ok_twitter.pos(sentence)\n",
        "  sentences_tag.append(morph)\n",
        "  print(morph)\n",
        "\n",
        "print(sentences_tag)\n",
        "print(len(sentences_tag))"
      ],
      "metadata": {
        "id": "lVmNjApAsqRz"
      },
      "execution_count": null,
      "outputs": []
    },
    {
      "cell_type": "code",
      "source": [
        "from konlpy.tag import Okt\n",
        "ok_twitter = Okt()\n",
        "sentences_tag = []\n",
        "for sentence in reply_text:\n",
        "  morph = ok_twitter.pos(sentence)\n",
        "  sentences_tag.append(morph)\n",
        "\n",
        "sentences_tag"
      ],
      "metadata": {
        "id": "v47D_t_TpSGz"
      },
      "execution_count": null,
      "outputs": []
    },
    {
      "cell_type": "code",
      "source": [
        "for one_sentence in sentences_tag:\n",
        "  for word, tag in one_sentence:\n",
        "    if tag in ['Noun']:\n",
        "      print(word)"
      ],
      "metadata": {
        "id": "uZRHYNJJqzHq"
      },
      "execution_count": null,
      "outputs": []
    },
    {
      "cell_type": "code",
      "source": [
        "bucket_list = []\n",
        "for one_sentece in sentences_tag:\n",
        "  for word, tag in one_sentence:\n",
        "    if tag in ['Noun']: \n",
        "      bucket_list.append(word)\n",
        "\n",
        "print(bucket_list)"
      ],
      "metadata": {
        "id": "etDUMK9jrVEl"
      },
      "execution_count": null,
      "outputs": []
    }
  ]
}